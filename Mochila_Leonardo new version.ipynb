{
  "nbformat": 4,
  "nbformat_minor": 0,
  "metadata": {
    "colab": {
      "provenance": []
    },
    "kernelspec": {
      "name": "python3",
      "display_name": "Python 3"
    },
    "language_info": {
      "name": "python"
    }
  },
  "cells": [
    {
      "cell_type": "markdown",
      "source": [
        "# **Instalação do pacote mip**"
      ],
      "metadata": {
        "id": "FMBJRGWcvNWr"
      }
    },
    {
      "cell_type": "markdown",
      "source": [
        "documentação do pacote MIP: https://python-mip.readthedocs.io/en/latest/classes.html"
      ],
      "metadata": {
        "id": "WabqlrS-URJx"
      }
    },
    {
      "cell_type": "code",
      "execution_count": 20,
      "metadata": {
        "colab": {
          "base_uri": "https://localhost:8080/"
        },
        "id": "1J5QWhp-pHcP",
        "outputId": "98d45497-6c8c-4fdf-c23d-c55ced197187"
      },
      "outputs": [
        {
          "output_type": "stream",
          "name": "stdout",
          "text": [
            "Looking in indexes: https://pypi.org/simple, https://us-python.pkg.dev/colab-wheels/public/simple/\n",
            "Requirement already satisfied: mip in /usr/local/lib/python3.8/dist-packages (1.15.0)\n",
            "Requirement already satisfied: cffi==1.15.* in /usr/local/lib/python3.8/dist-packages (from mip) (1.15.1)\n",
            "Requirement already satisfied: pycparser in /usr/local/lib/python3.8/dist-packages (from cffi==1.15.*->mip) (2.21)\n"
          ]
        }
      ],
      "source": [
        "!pip install mip"
      ]
    },
    {
      "cell_type": "markdown",
      "source": [
        "**Resolução Problema da Mochila**"
      ],
      "metadata": {
        "id": "SOeeFXxEvSS5"
      }
    },
    {
      "cell_type": "code",
      "source": [
        "from mip import Model, maximize, xsum, CBC, BINARY, OptimizationStatus"
      ],
      "metadata": {
        "id": "DWAwA6djvVhU"
      },
      "execution_count": 21,
      "outputs": []
    },
    {
      "cell_type": "code",
      "source": [
        "coef_funcao_objetivo = [4, 6, 5, 3, 1]\n",
        "coef_restr = [5, 4, 3, 2, 1]\n",
        "termo_independente = 10 "
      ],
      "metadata": {
        "id": "BVVV1-HjSPCj"
      },
      "execution_count": 22,
      "outputs": []
    },
    {
      "cell_type": "code",
      "source": [
        "I = range(len(coef_funcao_objetivo))\n",
        "m = Model(\"knapsack\")"
      ],
      "metadata": {
        "id": "qG0ZLXNTRt9d"
      },
      "execution_count": 23,
      "outputs": []
    },
    {
      "cell_type": "code",
      "source": [
        "x = [m.add_var(var_type=BINARY) for i in I]"
      ],
      "metadata": {
        "id": "sBmvnRW2Qsdq"
      },
      "execution_count": 24,
      "outputs": []
    },
    {
      "cell_type": "code",
      "source": [
        "m.objective = maximize(xsum(coef_funcao_objetivo[i] * x[i] for i in I))"
      ],
      "metadata": {
        "id": "lf3SGds5RyAd"
      },
      "execution_count": 25,
      "outputs": []
    },
    {
      "cell_type": "code",
      "source": [
        "m += xsum(coef_restr[i] * x[i] for i in I) <= termo_independente\n",
        "print(f'O modelo tem {m.num_cols} variável(eis), {m.num_rows} restrição(ões) e {m.num_nz} zero(s)')"
      ],
      "metadata": {
        "colab": {
          "base_uri": "https://localhost:8080/"
        },
        "id": "M5MieaPqR3zs",
        "outputId": "2cf27e46-de43-41c6-b979-6504ba2865c7"
      },
      "execution_count": 26,
      "outputs": [
        {
          "output_type": "stream",
          "name": "stdout",
          "text": [
            "O modelo tem 5 variável(eis), 1 restrição(ões) e 5 zero(s)\n"
          ]
        }
      ]
    },
    {
      "cell_type": "code",
      "source": [
        "status = m.optimize(max_seconds=2)"
      ],
      "metadata": {
        "id": "KZWsiOPVQsGb"
      },
      "execution_count": 27,
      "outputs": []
    },
    {
      "cell_type": "code",
      "source": [
        "status == OptimizationStatus.OPTIMAL"
      ],
      "metadata": {
        "colab": {
          "base_uri": "https://localhost:8080/"
        },
        "id": "3UD0BjDnT2o7",
        "outputId": "466fb788-80ea-4b43-f508-d2a927682552"
      },
      "execution_count": 28,
      "outputs": [
        {
          "output_type": "execute_result",
          "data": {
            "text/plain": [
              "True"
            ]
          },
          "metadata": {},
          "execution_count": 28
        }
      ]
    },
    {
      "cell_type": "code",
      "source": [
        "itens_selecionados = [\"x\"+str(i+1) for i in I if x[i].x >= 0.99]\n",
        "print(\"Itens selecionados: {}\".format(itens_selecionados))"
      ],
      "metadata": {
        "colab": {
          "base_uri": "https://localhost:8080/"
        },
        "id": "07mA9CGeQ2_d",
        "outputId": "14208492-4330-4648-823d-b954b758c0f1"
      },
      "execution_count": 29,
      "outputs": [
        {
          "output_type": "stream",
          "name": "stdout",
          "text": [
            "Itens selecionados: ['x2', 'x3', 'x4', 'x5']\n"
          ]
        }
      ]
    }
  ]
}